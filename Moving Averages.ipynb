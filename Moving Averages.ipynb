{
 "cells": [
  {
   "cell_type": "code",
   "execution_count": 5,
   "metadata": {},
   "outputs": [],
   "source": [
    "import pandas as pd\n",
    "import numpy as np\n",
    "import yfinance as yf\n",
    "import datetime as dt\n",
    "from pandas_datareader import data as pdr\n",
    "import statistics\n",
    "import time"
   ]
  },
  {
   "cell_type": "code",
   "execution_count": 6,
   "metadata": {},
   "outputs": [],
   "source": [
    "yf.pdr_override()"
   ]
  },
  {
   "cell_type": "code",
   "execution_count": 27,
   "metadata": {
    "scrolled": true
   },
   "outputs": [
    {
     "name": "stdout",
     "output_type": "stream",
     "text": [
      "Enter a stock ticker symbol: QQQ\n",
      "QQQ\n"
     ]
    }
   ],
   "source": [
    "stock=input('Enter a stock ticker symbol: ')\n",
    "print(stock)"
   ]
  },
  {
   "cell_type": "code",
   "execution_count": 28,
   "metadata": {},
   "outputs": [
    {
     "name": "stdout",
     "output_type": "stream",
     "text": [
      "[*********************100%***********************]  1 of 1 completed\n",
      "                  Open        High         Low       Close   Adj Close  \\\n",
      "Date                                                                     \n",
      "2019-01-02  150.990005  155.750000  150.880005  154.880005  152.551788   \n",
      "2019-01-03  152.600006  153.259995  149.490005  149.820007  147.567871   \n",
      "2019-01-04  152.339996  157.000000  151.740005  156.229996  153.881500   \n",
      "2019-01-07  156.619995  158.860001  156.110001  158.089996  155.713531   \n",
      "2019-01-08  159.539993  160.110001  157.199997  159.520004  157.122040   \n",
      "...                ...         ...         ...         ...         ...   \n",
      "2021-03-31  316.160004  320.739990  315.809998  319.130005  319.130005   \n",
      "2021-04-01  323.070007  324.709991  322.809998  324.570007  324.570007   \n",
      "2021-04-05  327.130005  331.839996  326.880005  331.049988  331.049988   \n",
      "2021-04-06  330.730011  332.829987  330.019989  330.820007  330.820007   \n",
      "2021-04-07  330.329987  332.480011  329.369995  331.619995  331.619995   \n",
      "\n",
      "              Volume  \n",
      "Date                  \n",
      "2019-01-02  58576700  \n",
      "2019-01-03  74820200  \n",
      "2019-01-04  74709300  \n",
      "2019-01-07  52059300  \n",
      "2019-01-08  49388700  \n",
      "...              ...  \n",
      "2021-03-31  55032500  \n",
      "2021-04-01  55597600  \n",
      "2021-04-05  42172500  \n",
      "2021-04-06  33437600  \n",
      "2021-04-07  32046029  \n",
      "\n",
      "[570 rows x 6 columns]\n"
     ]
    }
   ],
   "source": [
    "startyear=2019\n",
    "startmonth=1\n",
    "startday=1\n",
    "\n",
    "start = dt.datetime(startyear,startmonth,startday)\n",
    "now = dt.datetime.now()\n",
    "\n",
    "df=pdr.get_data_yahoo(stock,start,now)\n",
    "print(df)\n"
   ]
  },
  {
   "cell_type": "code",
   "execution_count": 29,
   "metadata": {},
   "outputs": [
    {
     "name": "stdout",
     "output_type": "stream",
     "text": [
      "                  Open        High         Low       Close   Adj Close  \\\n",
      "Date                                                                     \n",
      "2019-03-15  177.399994  178.880005  177.279999  178.350006  175.668961   \n",
      "2019-03-18  177.949997  178.990005  177.589996  178.449997  176.087372   \n",
      "2019-03-19  179.179993  180.000000  178.289993  179.050003  176.679428   \n",
      "2019-03-20  179.059998  180.860001  178.240005  179.759995  177.380020   \n",
      "2019-03-21  179.220001  182.830002  179.199997  182.570007  180.152832   \n",
      "...                ...         ...         ...         ...         ...   \n",
      "2021-03-31  316.160004  320.739990  315.809998  319.130005  319.130005   \n",
      "2021-04-01  323.070007  324.709991  322.809998  324.570007  324.570007   \n",
      "2021-04-05  327.130005  331.839996  326.880005  331.049988  331.049988   \n",
      "2021-04-06  330.730011  332.829987  330.019989  330.820007  330.820007   \n",
      "2021-04-07  330.329987  332.480011  329.369995  331.619995  331.619995   \n",
      "\n",
      "              Volume      Sma_50  \n",
      "Date                              \n",
      "2019-03-15  38192000  165.555724  \n",
      "2019-03-18  32935100  166.126114  \n",
      "2019-03-19  36893300  166.582072  \n",
      "2019-03-20  50105000  167.015402  \n",
      "2019-03-21  42428500  167.476018  \n",
      "...              ...         ...  \n",
      "2021-03-31  55032500  320.766434  \n",
      "2021-04-01  55597600  320.790602  \n",
      "2021-04-05  42172500  320.892636  \n",
      "2021-04-06  33437600  321.008846  \n",
      "2021-04-07  32046029  321.087324  \n",
      "\n",
      "[520 rows x 7 columns]\n"
     ]
    }
   ],
   "source": [
    "ma=50\n",
    "\n",
    "smaString='Sma_'+str(ma)\n",
    "\n",
    "df[smaString]=df.iloc[:,4].rolling(window=ma).mean()\n",
    "\n",
    "\n",
    "\n",
    "df=df.iloc[ma:]\n",
    "\n",
    "print(df)"
   ]
  },
  {
   "cell_type": "code",
   "execution_count": 34,
   "metadata": {},
   "outputs": [
    {
     "name": "stdout",
     "output_type": "stream",
     "text": [
      "398\n",
      "122\n"
     ]
    }
   ],
   "source": [
    "numH=0\n",
    "numL=0\n",
    "for i in df.index:\n",
    "   if(df[\"Adj Close\"][i]>df[smaString][i]):\n",
    "      numH+=1\n",
    "   else:\n",
    "        numL+=1\n",
    "print(str(numH))\n",
    "print(str(numL))\n"
   ]
  },
  {
   "cell_type": "code",
   "execution_count": null,
   "metadata": {},
   "outputs": [],
   "source": []
  },
  {
   "cell_type": "code",
   "execution_count": null,
   "metadata": {},
   "outputs": [],
   "source": []
  },
  {
   "cell_type": "code",
   "execution_count": null,
   "metadata": {},
   "outputs": [],
   "source": []
  },
  {
   "cell_type": "code",
   "execution_count": null,
   "metadata": {},
   "outputs": [],
   "source": []
  },
  {
   "cell_type": "code",
   "execution_count": null,
   "metadata": {},
   "outputs": [],
   "source": []
  },
  {
   "cell_type": "code",
   "execution_count": null,
   "metadata": {},
   "outputs": [],
   "source": []
  },
  {
   "cell_type": "code",
   "execution_count": null,
   "metadata": {},
   "outputs": [],
   "source": []
  },
  {
   "cell_type": "code",
   "execution_count": null,
   "metadata": {},
   "outputs": [],
   "source": []
  },
  {
   "cell_type": "code",
   "execution_count": null,
   "metadata": {},
   "outputs": [],
   "source": []
  },
  {
   "cell_type": "code",
   "execution_count": null,
   "metadata": {},
   "outputs": [],
   "source": []
  },
  {
   "cell_type": "code",
   "execution_count": null,
   "metadata": {},
   "outputs": [],
   "source": []
  },
  {
   "cell_type": "code",
   "execution_count": null,
   "metadata": {},
   "outputs": [],
   "source": []
  },
  {
   "cell_type": "code",
   "execution_count": null,
   "metadata": {},
   "outputs": [],
   "source": []
  },
  {
   "cell_type": "code",
   "execution_count": null,
   "metadata": {},
   "outputs": [],
   "source": []
  },
  {
   "cell_type": "code",
   "execution_count": null,
   "metadata": {},
   "outputs": [],
   "source": []
  },
  {
   "cell_type": "code",
   "execution_count": null,
   "metadata": {},
   "outputs": [],
   "source": []
  },
  {
   "cell_type": "code",
   "execution_count": null,
   "metadata": {},
   "outputs": [],
   "source": []
  },
  {
   "cell_type": "code",
   "execution_count": null,
   "metadata": {},
   "outputs": [],
   "source": []
  },
  {
   "cell_type": "code",
   "execution_count": null,
   "metadata": {},
   "outputs": [],
   "source": []
  },
  {
   "cell_type": "code",
   "execution_count": null,
   "metadata": {},
   "outputs": [],
   "source": []
  },
  {
   "cell_type": "code",
   "execution_count": null,
   "metadata": {},
   "outputs": [],
   "source": []
  },
  {
   "cell_type": "code",
   "execution_count": null,
   "metadata": {},
   "outputs": [],
   "source": []
  },
  {
   "cell_type": "code",
   "execution_count": null,
   "metadata": {},
   "outputs": [],
   "source": []
  },
  {
   "cell_type": "code",
   "execution_count": null,
   "metadata": {},
   "outputs": [],
   "source": []
  },
  {
   "cell_type": "code",
   "execution_count": null,
   "metadata": {},
   "outputs": [],
   "source": []
  },
  {
   "cell_type": "code",
   "execution_count": null,
   "metadata": {},
   "outputs": [],
   "source": []
  },
  {
   "cell_type": "code",
   "execution_count": null,
   "metadata": {},
   "outputs": [],
   "source": []
  },
  {
   "cell_type": "code",
   "execution_count": null,
   "metadata": {},
   "outputs": [],
   "source": []
  },
  {
   "cell_type": "code",
   "execution_count": null,
   "metadata": {},
   "outputs": [],
   "source": []
  },
  {
   "cell_type": "code",
   "execution_count": null,
   "metadata": {},
   "outputs": [],
   "source": []
  },
  {
   "cell_type": "code",
   "execution_count": null,
   "metadata": {},
   "outputs": [],
   "source": []
  },
  {
   "cell_type": "code",
   "execution_count": null,
   "metadata": {},
   "outputs": [],
   "source": []
  },
  {
   "cell_type": "code",
   "execution_count": null,
   "metadata": {},
   "outputs": [],
   "source": []
  }
 ],
 "metadata": {
  "kernelspec": {
   "display_name": "Python 3",
   "language": "python",
   "name": "python3"
  },
  "language_info": {
   "codemirror_mode": {
    "name": "ipython",
    "version": 3
   },
   "file_extension": ".py",
   "mimetype": "text/x-python",
   "name": "python",
   "nbconvert_exporter": "python",
   "pygments_lexer": "ipython3",
   "version": "3.8.5"
  }
 },
 "nbformat": 4,
 "nbformat_minor": 4
}
